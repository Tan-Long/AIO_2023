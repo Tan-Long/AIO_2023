{
  "nbformat": 4,
  "nbformat_minor": 0,
  "metadata": {
    "colab": {
      "provenance": [],
      "authorship_tag": "ABX9TyOt4VjX3jwttlXaQlBSGo0d",
      "include_colab_link": true
    },
    "kernelspec": {
      "name": "python3",
      "display_name": "Python 3"
    },
    "language_info": {
      "name": "python"
    }
  },
  "cells": [
    {
      "cell_type": "markdown",
      "metadata": {
        "id": "view-in-github",
        "colab_type": "text"
      },
      "source": [
        "<a href=\"https://colab.research.google.com/github/Tan-Long/AIO_2023/blob/AIO_2023_Teach_Assistant/AIO_TA_%20Fibonacci.ipynb\" target=\"_parent\"><img src=\"https://colab.research.google.com/assets/colab-badge.svg\" alt=\"Open In Colab\"/></a>"
      ]
    },
    {
      "cell_type": "code",
      "execution_count": null,
      "metadata": {
        "id": "ZKi0ic-dtQUw"
      },
      "outputs": [],
      "source": [
        "#F(0) = 0 , F(1) = 1,F(2) = F(1) + F(0) = 10 ,\n",
        "# F(n) = F(n-1) + F(n-2)\n",
        "#F(3)= F(2) + F(1) = F(1) + F(0) + F(1) = 1+0+1 = 101\n",
        "#F(4) = F(3)+F(2)=F(1) + F(0) + F(1) +F(1) + F(0) = 1+0+1+1+0 = 10110\n",
        "#F(5) = F(4)+F(3)=F(1) + F(0) + F(1) +F(1) + F(0) + F(1) + F(0) + F(1)= 1+0+1+1+0+1+0 = 1011010\n"
      ]
    },
    {
      "cell_type": "code",
      "source": [
        "def word_Fibonancci(n):\n",
        "  if n == 0:\n",
        "    return \"A\"\n",
        "  elif n == 1:\n",
        "    return \"B\"\n",
        "  else: \n",
        "    return bit_Fibonancci(n-1) +bit_Fibonancci(n-2)"
      ],
      "metadata": {
        "id": "00mR4Cp7UMRD"
      },
      "execution_count": null,
      "outputs": []
    },
    {
      "cell_type": "code",
      "source": [
        "def word_Fibonancci_result(n):\n",
        "  result = word_Fibonancci(n)\n",
        "  target = n\n",
        "  if len(result) >= target:\n",
        "    return result[target-1]"
      ],
      "metadata": {
        "id": "QipUdZR_1vDK"
      },
      "execution_count": null,
      "outputs": []
    },
    {
      "cell_type": "code",
      "source": [
        "word_Fibonancci_result(4)"
      ],
      "metadata": {
        "colab": {
          "base_uri": "https://localhost:8080/",
          "height": 35
        },
        "id": "Qf2kxyw6U5u6",
        "outputId": "66c94e9d-3adc-4555-a619-6d122154a2ad"
      },
      "execution_count": null,
      "outputs": [
        {
          "output_type": "execute_result",
          "data": {
            "text/plain": [
              "'B'"
            ],
            "application/vnd.google.colaboratory.intrinsic+json": {
              "type": "string"
            }
          },
          "metadata": {},
          "execution_count": 25
        }
      ]
    },
    {
      "cell_type": "code",
      "source": [
        "def bit_Fibonancci(n):\n",
        "  if n == 0:\n",
        "    return \"0\"\n",
        "  elif n == 1:\n",
        "    return \"1\"\n",
        "  else: \n",
        "    return bit_Fibonancci(n-1) +bit_Fibonancci(n-2)"
      ],
      "metadata": {
        "id": "WA-eTjSc1D8n"
      },
      "execution_count": null,
      "outputs": []
    },
    {
      "cell_type": "code",
      "source": [
        "bit_Fibonancci(n = 4)"
      ],
      "metadata": {
        "colab": {
          "base_uri": "https://localhost:8080/",
          "height": 35
        },
        "id": "m5Gpa2aoF0b-",
        "outputId": "1333322b-d5c8-4795-9166-dce35888e77e"
      },
      "execution_count": null,
      "outputs": [
        {
          "output_type": "execute_result",
          "data": {
            "text/plain": [
              "'10110'"
            ],
            "application/vnd.google.colaboratory.intrinsic+json": {
              "type": "string"
            }
          },
          "metadata": {},
          "execution_count": 28
        }
      ]
    }
  ]
}