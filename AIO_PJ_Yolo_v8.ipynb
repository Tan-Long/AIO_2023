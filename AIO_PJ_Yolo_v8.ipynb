{
  "nbformat": 4,
  "nbformat_minor": 0,
  "metadata": {
    "colab": {
      "provenance": [],
      "gpuType": "T4",
      "mount_file_id": "1YEc5yna2Trg_Lm3qFg9VevD23GylFzD_",
      "authorship_tag": "ABX9TyNaj4J6h1MvgnjDrB0LX7+T",
      "include_colab_link": true
    },
    "kernelspec": {
      "name": "python3",
      "display_name": "Python 3"
    },
    "language_info": {
      "name": "python"
    },
    "accelerator": "GPU",
    "gpuClass": "standard"
  },
  "cells": [
    {
      "cell_type": "markdown",
      "metadata": {
        "id": "view-in-github",
        "colab_type": "text"
      },
      "source": [
        "<a href=\"https://colab.research.google.com/github/Tan-Long/AIO_2023/blob/AIO_2023_Project/AIO_PJ_Yolo_v8.ipynb\" target=\"_parent\"><img src=\"https://colab.research.google.com/assets/colab-badge.svg\" alt=\"Open In Colab\"/></a>"
      ]
    },
    {
      "cell_type": "code",
      "execution_count": null,
      "metadata": {
        "id": "eUkb7fwxIQU3"
      },
      "outputs": [],
      "source": [
        "!git clone https://github.com/ultralytics/ultralytics.git"
      ]
    },
    {
      "cell_type": "code",
      "source": [
        "%cd ultralytics\n",
        "!pip install -e"
      ],
      "metadata": {
        "id": "4tuS4ZuTJG3i"
      },
      "execution_count": null,
      "outputs": []
    },
    {
      "cell_type": "code",
      "source": [
        "!wget https://github.com/ultralytics/assets/releases/download/v0.0.0/yolov8s.pt"
      ],
      "metadata": {
        "id": "0XqxU8H0JqW4"
      },
      "execution_count": null,
      "outputs": []
    },
    {
      "cell_type": "code",
      "source": [
        "!gdown https://drive.google.com/u/0/uc?id=1--0QuKMwj31K-CSvD8oq5fceFweiFPuN&export=download\n"
      ],
      "metadata": {
        "id": "HOuRS_TxK-_f"
      },
      "execution_count": null,
      "outputs": []
    },
    {
      "cell_type": "code",
      "source": [
        "!unzip /content/ultralytics/human_detection_dataset.zip"
      ],
      "metadata": {
        "id": "AlqRqrL1S7M9"
      },
      "execution_count": null,
      "outputs": []
    },
    {
      "cell_type": "code",
      "source": [
        "import yaml\n",
        "dataset_info = {\n",
        "  \"train\": \"./train/images\", \n",
        "  \"val\": \"./val/images\", \n",
        "  \"nc\": 1,\n",
        "  \"names\": [\"Human\"]\n",
        "}\n",
        "with open(\"./human_detection_dataset/data.yaml\", \"w+\") as f:\n",
        "    doc = yaml.dump(dataset_info, f, default_flow_style=None, sort_keys=False)"
      ],
      "metadata": {
        "id": "ujC3b7J3TiBU"
      },
      "execution_count": null,
      "outputs": []
    },
    {
      "cell_type": "code",
      "source": [
        "!yolo train model=/content/ultralytics/yolov8s.pt data=/content/ultralytics/human_detection_dataset/data.yaml epochs=20 imgsz =640"
      ],
      "metadata": {
        "id": "mOaOGgd-UOIN"
      },
      "execution_count": null,
      "outputs": []
    },
    {
      "cell_type": "code",
      "source": [
        "!pip install ultralytics"
      ],
      "metadata": {
        "id": "mO2KxjXtdIx7"
      },
      "execution_count": null,
      "outputs": []
    },
    {
      "cell_type": "code",
      "source": [
        "!yolo predict model=/content/ultralytics/runs/detect/train/weights/best.pt source=\"https://www.youtube.com/watch?v=MsXdUtlDVhk&feature=youtu.be\"\n"
      ],
      "metadata": {
        "id": "aEFfxoVm8Ea5"
      },
      "execution_count": null,
      "outputs": []
    },
    {
      "cell_type": "code",
      "source": [
        "#!pip install -U kora\n",
        "from kora.drive import upload_public\n",
        "url = upload_public('/content/ultralytics/runs/detect/predict2/watch_v_MsXdUtlDVhk_feature_youtu.mp4')\n",
        "# then display it\n",
        "from IPython.display import HTML\n",
        "HTML(f\"\"\"<video src={url} width=640 controls/>\"\"\")"
      ],
      "metadata": {
        "id": "icCLC2Ke-pL7"
      },
      "execution_count": null,
      "outputs": []
    }
  ]
}